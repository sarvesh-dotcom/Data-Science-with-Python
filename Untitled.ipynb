{
 "cells": [
  {
   "cell_type": "code",
   "execution_count": 15,
   "id": "a8885fc9",
   "metadata": {},
   "outputs": [
    {
     "name": "stdout",
     "output_type": "stream",
     "text": [
      "Collecting ipycanvas\n",
      "  Downloading ipycanvas-0.13.2-py2.py3-none-any.whl.metadata (6.3 kB)\n",
      "Requirement already satisfied: ipywidgets<9,>=7.6.0 in c:\\users\\sarvesh\\anaconda3\\lib\\site-packages (from ipycanvas) (7.6.5)\n",
      "Requirement already satisfied: numpy in c:\\users\\sarvesh\\anaconda3\\lib\\site-packages (from ipycanvas) (1.26.4)\n",
      "Requirement already satisfied: pillow>=6.0 in c:\\users\\sarvesh\\anaconda3\\lib\\site-packages (from ipycanvas) (10.2.0)\n",
      "Requirement already satisfied: ipykernel>=4.5.1 in c:\\users\\sarvesh\\anaconda3\\lib\\site-packages (from ipywidgets<9,>=7.6.0->ipycanvas) (6.28.0)\n",
      "Requirement already satisfied: ipython-genutils~=0.2.0 in c:\\users\\sarvesh\\anaconda3\\lib\\site-packages (from ipywidgets<9,>=7.6.0->ipycanvas) (0.2.0)\n",
      "Requirement already satisfied: traitlets>=4.3.1 in c:\\users\\sarvesh\\anaconda3\\lib\\site-packages (from ipywidgets<9,>=7.6.0->ipycanvas) (5.7.1)\n",
      "Requirement already satisfied: nbformat>=4.2.0 in c:\\users\\sarvesh\\anaconda3\\lib\\site-packages (from ipywidgets<9,>=7.6.0->ipycanvas) (5.9.2)\n",
      "Requirement already satisfied: widgetsnbextension~=3.5.0 in c:\\users\\sarvesh\\anaconda3\\lib\\site-packages (from ipywidgets<9,>=7.6.0->ipycanvas) (3.5.2)\n",
      "Requirement already satisfied: ipython>=4.0.0 in c:\\users\\sarvesh\\anaconda3\\lib\\site-packages (from ipywidgets<9,>=7.6.0->ipycanvas) (8.20.0)\n",
      "Requirement already satisfied: jupyterlab-widgets>=1.0.0 in c:\\users\\sarvesh\\anaconda3\\lib\\site-packages (from ipywidgets<9,>=7.6.0->ipycanvas) (3.0.9)\n",
      "Requirement already satisfied: comm>=0.1.1 in c:\\users\\sarvesh\\anaconda3\\lib\\site-packages (from ipykernel>=4.5.1->ipywidgets<9,>=7.6.0->ipycanvas) (0.1.2)\n",
      "Requirement already satisfied: debugpy>=1.6.5 in c:\\users\\sarvesh\\anaconda3\\lib\\site-packages (from ipykernel>=4.5.1->ipywidgets<9,>=7.6.0->ipycanvas) (1.6.7)\n",
      "Requirement already satisfied: jupyter-client>=6.1.12 in c:\\users\\sarvesh\\anaconda3\\lib\\site-packages (from ipykernel>=4.5.1->ipywidgets<9,>=7.6.0->ipycanvas) (7.4.9)\n",
      "Requirement already satisfied: jupyter-core!=5.0.*,>=4.12 in c:\\users\\sarvesh\\anaconda3\\lib\\site-packages (from ipykernel>=4.5.1->ipywidgets<9,>=7.6.0->ipycanvas) (5.5.0)\n",
      "Requirement already satisfied: matplotlib-inline>=0.1 in c:\\users\\sarvesh\\anaconda3\\lib\\site-packages (from ipykernel>=4.5.1->ipywidgets<9,>=7.6.0->ipycanvas) (0.1.6)\n",
      "Requirement already satisfied: nest-asyncio in c:\\users\\sarvesh\\anaconda3\\lib\\site-packages (from ipykernel>=4.5.1->ipywidgets<9,>=7.6.0->ipycanvas) (1.6.0)\n",
      "Requirement already satisfied: packaging in c:\\users\\sarvesh\\anaconda3\\lib\\site-packages (from ipykernel>=4.5.1->ipywidgets<9,>=7.6.0->ipycanvas) (23.1)\n",
      "Requirement already satisfied: psutil in c:\\users\\sarvesh\\anaconda3\\lib\\site-packages (from ipykernel>=4.5.1->ipywidgets<9,>=7.6.0->ipycanvas) (5.9.0)\n",
      "Requirement already satisfied: pyzmq>=24 in c:\\users\\sarvesh\\anaconda3\\lib\\site-packages (from ipykernel>=4.5.1->ipywidgets<9,>=7.6.0->ipycanvas) (24.0.1)\n",
      "Requirement already satisfied: tornado>=6.1 in c:\\users\\sarvesh\\anaconda3\\lib\\site-packages (from ipykernel>=4.5.1->ipywidgets<9,>=7.6.0->ipycanvas) (6.3.3)\n",
      "Requirement already satisfied: decorator in c:\\users\\sarvesh\\anaconda3\\lib\\site-packages (from ipython>=4.0.0->ipywidgets<9,>=7.6.0->ipycanvas) (5.1.1)\n",
      "Requirement already satisfied: jedi>=0.16 in c:\\users\\sarvesh\\anaconda3\\lib\\site-packages (from ipython>=4.0.0->ipywidgets<9,>=7.6.0->ipycanvas) (0.18.1)\n",
      "Requirement already satisfied: prompt-toolkit<3.1.0,>=3.0.41 in c:\\users\\sarvesh\\anaconda3\\lib\\site-packages (from ipython>=4.0.0->ipywidgets<9,>=7.6.0->ipycanvas) (3.0.43)\n",
      "Requirement already satisfied: pygments>=2.4.0 in c:\\users\\sarvesh\\anaconda3\\lib\\site-packages (from ipython>=4.0.0->ipywidgets<9,>=7.6.0->ipycanvas) (2.15.1)\n",
      "Requirement already satisfied: stack-data in c:\\users\\sarvesh\\anaconda3\\lib\\site-packages (from ipython>=4.0.0->ipywidgets<9,>=7.6.0->ipycanvas) (0.2.0)\n",
      "Requirement already satisfied: colorama in c:\\users\\sarvesh\\anaconda3\\lib\\site-packages (from ipython>=4.0.0->ipywidgets<9,>=7.6.0->ipycanvas) (0.4.6)\n",
      "Requirement already satisfied: fastjsonschema in c:\\users\\sarvesh\\anaconda3\\lib\\site-packages (from nbformat>=4.2.0->ipywidgets<9,>=7.6.0->ipycanvas) (2.16.2)\n",
      "Requirement already satisfied: jsonschema>=2.6 in c:\\users\\sarvesh\\anaconda3\\lib\\site-packages (from nbformat>=4.2.0->ipywidgets<9,>=7.6.0->ipycanvas) (4.19.2)\n",
      "Requirement already satisfied: notebook>=4.4.1 in c:\\users\\sarvesh\\anaconda3\\lib\\site-packages (from widgetsnbextension~=3.5.0->ipywidgets<9,>=7.6.0->ipycanvas) (6.5.4)\n",
      "Requirement already satisfied: parso<0.9.0,>=0.8.0 in c:\\users\\sarvesh\\anaconda3\\lib\\site-packages (from jedi>=0.16->ipython>=4.0.0->ipywidgets<9,>=7.6.0->ipycanvas) (0.8.3)\n",
      "Requirement already satisfied: attrs>=22.2.0 in c:\\users\\sarvesh\\anaconda3\\lib\\site-packages (from jsonschema>=2.6->nbformat>=4.2.0->ipywidgets<9,>=7.6.0->ipycanvas) (23.1.0)\n",
      "Requirement already satisfied: jsonschema-specifications>=2023.03.6 in c:\\users\\sarvesh\\anaconda3\\lib\\site-packages (from jsonschema>=2.6->nbformat>=4.2.0->ipywidgets<9,>=7.6.0->ipycanvas) (2023.7.1)\n",
      "Requirement already satisfied: referencing>=0.28.4 in c:\\users\\sarvesh\\anaconda3\\lib\\site-packages (from jsonschema>=2.6->nbformat>=4.2.0->ipywidgets<9,>=7.6.0->ipycanvas) (0.30.2)\n",
      "Requirement already satisfied: rpds-py>=0.7.1 in c:\\users\\sarvesh\\anaconda3\\lib\\site-packages (from jsonschema>=2.6->nbformat>=4.2.0->ipywidgets<9,>=7.6.0->ipycanvas) (0.10.6)\n",
      "Requirement already satisfied: entrypoints in c:\\users\\sarvesh\\anaconda3\\lib\\site-packages (from jupyter-client>=6.1.12->ipykernel>=4.5.1->ipywidgets<9,>=7.6.0->ipycanvas) (0.4)\n",
      "Requirement already satisfied: python-dateutil>=2.8.2 in c:\\users\\sarvesh\\anaconda3\\lib\\site-packages (from jupyter-client>=6.1.12->ipykernel>=4.5.1->ipywidgets<9,>=7.6.0->ipycanvas) (2.8.2)\n",
      "Requirement already satisfied: platformdirs>=2.5 in c:\\users\\sarvesh\\anaconda3\\lib\\site-packages (from jupyter-core!=5.0.*,>=4.12->ipykernel>=4.5.1->ipywidgets<9,>=7.6.0->ipycanvas) (3.10.0)\n",
      "Requirement already satisfied: pywin32>=300 in c:\\users\\sarvesh\\anaconda3\\lib\\site-packages (from jupyter-core!=5.0.*,>=4.12->ipykernel>=4.5.1->ipywidgets<9,>=7.6.0->ipycanvas) (305.1)\n",
      "Requirement already satisfied: jinja2 in c:\\users\\sarvesh\\anaconda3\\lib\\site-packages (from notebook>=4.4.1->widgetsnbextension~=3.5.0->ipywidgets<9,>=7.6.0->ipycanvas) (3.1.3)\n",
      "Requirement already satisfied: argon2-cffi in c:\\users\\sarvesh\\anaconda3\\lib\\site-packages (from notebook>=4.4.1->widgetsnbextension~=3.5.0->ipywidgets<9,>=7.6.0->ipycanvas) (21.3.0)\n",
      "Requirement already satisfied: nbconvert>=5 in c:\\users\\sarvesh\\anaconda3\\lib\\site-packages (from notebook>=4.4.1->widgetsnbextension~=3.5.0->ipywidgets<9,>=7.6.0->ipycanvas) (7.10.0)\n",
      "Requirement already satisfied: Send2Trash>=1.8.0 in c:\\users\\sarvesh\\anaconda3\\lib\\site-packages (from notebook>=4.4.1->widgetsnbextension~=3.5.0->ipywidgets<9,>=7.6.0->ipycanvas) (1.8.2)\n",
      "Requirement already satisfied: terminado>=0.8.3 in c:\\users\\sarvesh\\anaconda3\\lib\\site-packages (from notebook>=4.4.1->widgetsnbextension~=3.5.0->ipywidgets<9,>=7.6.0->ipycanvas) (0.17.1)\n",
      "Requirement already satisfied: prometheus-client in c:\\users\\sarvesh\\anaconda3\\lib\\site-packages (from notebook>=4.4.1->widgetsnbextension~=3.5.0->ipywidgets<9,>=7.6.0->ipycanvas) (0.14.1)\n",
      "Requirement already satisfied: nbclassic>=0.4.7 in c:\\users\\sarvesh\\anaconda3\\lib\\site-packages (from notebook>=4.4.1->widgetsnbextension~=3.5.0->ipywidgets<9,>=7.6.0->ipycanvas) (1.0.0)\n",
      "Requirement already satisfied: wcwidth in c:\\users\\sarvesh\\anaconda3\\lib\\site-packages (from prompt-toolkit<3.1.0,>=3.0.41->ipython>=4.0.0->ipywidgets<9,>=7.6.0->ipycanvas) (0.2.5)\n",
      "Requirement already satisfied: executing in c:\\users\\sarvesh\\anaconda3\\lib\\site-packages (from stack-data->ipython>=4.0.0->ipywidgets<9,>=7.6.0->ipycanvas) (0.8.3)\n",
      "Requirement already satisfied: asttokens in c:\\users\\sarvesh\\anaconda3\\lib\\site-packages (from stack-data->ipython>=4.0.0->ipywidgets<9,>=7.6.0->ipycanvas) (2.0.5)\n",
      "Requirement already satisfied: pure-eval in c:\\users\\sarvesh\\anaconda3\\lib\\site-packages (from stack-data->ipython>=4.0.0->ipywidgets<9,>=7.6.0->ipycanvas) (0.2.2)\n",
      "Requirement already satisfied: jupyter-server>=1.8 in c:\\users\\sarvesh\\anaconda3\\lib\\site-packages (from nbclassic>=0.4.7->notebook>=4.4.1->widgetsnbextension~=3.5.0->ipywidgets<9,>=7.6.0->ipycanvas) (2.10.0)\n",
      "Requirement already satisfied: notebook-shim>=0.2.3 in c:\\users\\sarvesh\\anaconda3\\lib\\site-packages (from nbclassic>=0.4.7->notebook>=4.4.1->widgetsnbextension~=3.5.0->ipywidgets<9,>=7.6.0->ipycanvas) (0.2.3)\n",
      "Requirement already satisfied: beautifulsoup4 in c:\\users\\sarvesh\\anaconda3\\lib\\site-packages (from nbconvert>=5->notebook>=4.4.1->widgetsnbextension~=3.5.0->ipywidgets<9,>=7.6.0->ipycanvas) (4.12.2)\n",
      "Requirement already satisfied: bleach!=5.0.0 in c:\\users\\sarvesh\\anaconda3\\lib\\site-packages (from nbconvert>=5->notebook>=4.4.1->widgetsnbextension~=3.5.0->ipywidgets<9,>=7.6.0->ipycanvas) (4.1.0)\n",
      "Requirement already satisfied: defusedxml in c:\\users\\sarvesh\\anaconda3\\lib\\site-packages (from nbconvert>=5->notebook>=4.4.1->widgetsnbextension~=3.5.0->ipywidgets<9,>=7.6.0->ipycanvas) (0.7.1)\n",
      "Requirement already satisfied: jupyterlab-pygments in c:\\users\\sarvesh\\anaconda3\\lib\\site-packages (from nbconvert>=5->notebook>=4.4.1->widgetsnbextension~=3.5.0->ipywidgets<9,>=7.6.0->ipycanvas) (0.1.2)\n",
      "Requirement already satisfied: markupsafe>=2.0 in c:\\users\\sarvesh\\anaconda3\\lib\\site-packages (from nbconvert>=5->notebook>=4.4.1->widgetsnbextension~=3.5.0->ipywidgets<9,>=7.6.0->ipycanvas) (2.1.3)\n",
      "Requirement already satisfied: mistune<4,>=2.0.3 in c:\\users\\sarvesh\\anaconda3\\lib\\site-packages (from nbconvert>=5->notebook>=4.4.1->widgetsnbextension~=3.5.0->ipywidgets<9,>=7.6.0->ipycanvas) (2.0.4)\n",
      "Requirement already satisfied: nbclient>=0.5.0 in c:\\users\\sarvesh\\anaconda3\\lib\\site-packages (from nbconvert>=5->notebook>=4.4.1->widgetsnbextension~=3.5.0->ipywidgets<9,>=7.6.0->ipycanvas) (0.8.0)\n",
      "Requirement already satisfied: pandocfilters>=1.4.1 in c:\\users\\sarvesh\\anaconda3\\lib\\site-packages (from nbconvert>=5->notebook>=4.4.1->widgetsnbextension~=3.5.0->ipywidgets<9,>=7.6.0->ipycanvas) (1.5.0)\n",
      "Requirement already satisfied: tinycss2 in c:\\users\\sarvesh\\anaconda3\\lib\\site-packages (from nbconvert>=5->notebook>=4.4.1->widgetsnbextension~=3.5.0->ipywidgets<9,>=7.6.0->ipycanvas) (1.2.1)\n",
      "Requirement already satisfied: six>=1.5 in c:\\users\\sarvesh\\anaconda3\\lib\\site-packages (from python-dateutil>=2.8.2->jupyter-client>=6.1.12->ipykernel>=4.5.1->ipywidgets<9,>=7.6.0->ipycanvas) (1.16.0)\n",
      "Requirement already satisfied: pywinpty>=1.1.0 in c:\\users\\sarvesh\\anaconda3\\lib\\site-packages (from terminado>=0.8.3->notebook>=4.4.1->widgetsnbextension~=3.5.0->ipywidgets<9,>=7.6.0->ipycanvas) (2.0.10)\n",
      "Requirement already satisfied: argon2-cffi-bindings in c:\\users\\sarvesh\\anaconda3\\lib\\site-packages (from argon2-cffi->notebook>=4.4.1->widgetsnbextension~=3.5.0->ipywidgets<9,>=7.6.0->ipycanvas) (21.2.0)\n",
      "Requirement already satisfied: webencodings in c:\\users\\sarvesh\\anaconda3\\lib\\site-packages (from bleach!=5.0.0->nbconvert>=5->notebook>=4.4.1->widgetsnbextension~=3.5.0->ipywidgets<9,>=7.6.0->ipycanvas) (0.5.1)\n",
      "Requirement already satisfied: anyio>=3.1.0 in c:\\users\\sarvesh\\anaconda3\\lib\\site-packages (from jupyter-server>=1.8->nbclassic>=0.4.7->notebook>=4.4.1->widgetsnbextension~=3.5.0->ipywidgets<9,>=7.6.0->ipycanvas) (4.2.0)\n",
      "Requirement already satisfied: jupyter-events>=0.6.0 in c:\\users\\sarvesh\\anaconda3\\lib\\site-packages (from jupyter-server>=1.8->nbclassic>=0.4.7->notebook>=4.4.1->widgetsnbextension~=3.5.0->ipywidgets<9,>=7.6.0->ipycanvas) (0.8.0)\n",
      "Requirement already satisfied: jupyter-server-terminals in c:\\users\\sarvesh\\anaconda3\\lib\\site-packages (from jupyter-server>=1.8->nbclassic>=0.4.7->notebook>=4.4.1->widgetsnbextension~=3.5.0->ipywidgets<9,>=7.6.0->ipycanvas) (0.4.4)\n",
      "Requirement already satisfied: overrides in c:\\users\\sarvesh\\anaconda3\\lib\\site-packages (from jupyter-server>=1.8->nbclassic>=0.4.7->notebook>=4.4.1->widgetsnbextension~=3.5.0->ipywidgets<9,>=7.6.0->ipycanvas) (7.4.0)\n",
      "Requirement already satisfied: websocket-client in c:\\users\\sarvesh\\anaconda3\\lib\\site-packages (from jupyter-server>=1.8->nbclassic>=0.4.7->notebook>=4.4.1->widgetsnbextension~=3.5.0->ipywidgets<9,>=7.6.0->ipycanvas) (0.58.0)\n",
      "Requirement already satisfied: cffi>=1.0.1 in c:\\users\\sarvesh\\anaconda3\\lib\\site-packages (from argon2-cffi-bindings->argon2-cffi->notebook>=4.4.1->widgetsnbextension~=3.5.0->ipywidgets<9,>=7.6.0->ipycanvas) (1.16.0)\n",
      "Requirement already satisfied: soupsieve>1.2 in c:\\users\\sarvesh\\anaconda3\\lib\\site-packages (from beautifulsoup4->nbconvert>=5->notebook>=4.4.1->widgetsnbextension~=3.5.0->ipywidgets<9,>=7.6.0->ipycanvas) (2.5)\n",
      "Requirement already satisfied: idna>=2.8 in c:\\users\\sarvesh\\anaconda3\\lib\\site-packages (from anyio>=3.1.0->jupyter-server>=1.8->nbclassic>=0.4.7->notebook>=4.4.1->widgetsnbextension~=3.5.0->ipywidgets<9,>=7.6.0->ipycanvas) (3.4)\n",
      "Requirement already satisfied: sniffio>=1.1 in c:\\users\\sarvesh\\anaconda3\\lib\\site-packages (from anyio>=3.1.0->jupyter-server>=1.8->nbclassic>=0.4.7->notebook>=4.4.1->widgetsnbextension~=3.5.0->ipywidgets<9,>=7.6.0->ipycanvas) (1.3.0)\n",
      "Requirement already satisfied: pycparser in c:\\users\\sarvesh\\anaconda3\\lib\\site-packages (from cffi>=1.0.1->argon2-cffi-bindings->argon2-cffi->notebook>=4.4.1->widgetsnbextension~=3.5.0->ipywidgets<9,>=7.6.0->ipycanvas) (2.21)\n",
      "Requirement already satisfied: python-json-logger>=2.0.4 in c:\\users\\sarvesh\\anaconda3\\lib\\site-packages (from jupyter-events>=0.6.0->jupyter-server>=1.8->nbclassic>=0.4.7->notebook>=4.4.1->widgetsnbextension~=3.5.0->ipywidgets<9,>=7.6.0->ipycanvas) (2.0.7)\n",
      "Requirement already satisfied: pyyaml>=5.3 in c:\\users\\sarvesh\\anaconda3\\lib\\site-packages (from jupyter-events>=0.6.0->jupyter-server>=1.8->nbclassic>=0.4.7->notebook>=4.4.1->widgetsnbextension~=3.5.0->ipywidgets<9,>=7.6.0->ipycanvas) (6.0.1)\n",
      "Requirement already satisfied: rfc3339-validator in c:\\users\\sarvesh\\anaconda3\\lib\\site-packages (from jupyter-events>=0.6.0->jupyter-server>=1.8->nbclassic>=0.4.7->notebook>=4.4.1->widgetsnbextension~=3.5.0->ipywidgets<9,>=7.6.0->ipycanvas) (0.1.4)\n",
      "Requirement already satisfied: rfc3986-validator>=0.1.1 in c:\\users\\sarvesh\\anaconda3\\lib\\site-packages (from jupyter-events>=0.6.0->jupyter-server>=1.8->nbclassic>=0.4.7->notebook>=4.4.1->widgetsnbextension~=3.5.0->ipywidgets<9,>=7.6.0->ipycanvas) (0.1.1)\n",
      "Requirement already satisfied: fqdn in c:\\users\\sarvesh\\anaconda3\\lib\\site-packages (from jsonschema[format-nongpl]>=4.18.0->jupyter-events>=0.6.0->jupyter-server>=1.8->nbclassic>=0.4.7->notebook>=4.4.1->widgetsnbextension~=3.5.0->ipywidgets<9,>=7.6.0->ipycanvas) (1.5.1)\n",
      "Requirement already satisfied: isoduration in c:\\users\\sarvesh\\anaconda3\\lib\\site-packages (from jsonschema[format-nongpl]>=4.18.0->jupyter-events>=0.6.0->jupyter-server>=1.8->nbclassic>=0.4.7->notebook>=4.4.1->widgetsnbextension~=3.5.0->ipywidgets<9,>=7.6.0->ipycanvas) (20.11.0)\n",
      "Requirement already satisfied: jsonpointer>1.13 in c:\\users\\sarvesh\\anaconda3\\lib\\site-packages (from jsonschema[format-nongpl]>=4.18.0->jupyter-events>=0.6.0->jupyter-server>=1.8->nbclassic>=0.4.7->notebook>=4.4.1->widgetsnbextension~=3.5.0->ipywidgets<9,>=7.6.0->ipycanvas) (2.1)\n",
      "Requirement already satisfied: uri-template in c:\\users\\sarvesh\\anaconda3\\lib\\site-packages (from jsonschema[format-nongpl]>=4.18.0->jupyter-events>=0.6.0->jupyter-server>=1.8->nbclassic>=0.4.7->notebook>=4.4.1->widgetsnbextension~=3.5.0->ipywidgets<9,>=7.6.0->ipycanvas) (1.3.0)\n",
      "Requirement already satisfied: webcolors>=1.11 in c:\\users\\sarvesh\\anaconda3\\lib\\site-packages (from jsonschema[format-nongpl]>=4.18.0->jupyter-events>=0.6.0->jupyter-server>=1.8->nbclassic>=0.4.7->notebook>=4.4.1->widgetsnbextension~=3.5.0->ipywidgets<9,>=7.6.0->ipycanvas) (24.6.0)\n",
      "Requirement already satisfied: arrow>=0.15.0 in c:\\users\\sarvesh\\anaconda3\\lib\\site-packages (from isoduration->jsonschema[format-nongpl]>=4.18.0->jupyter-events>=0.6.0->jupyter-server>=1.8->nbclassic>=0.4.7->notebook>=4.4.1->widgetsnbextension~=3.5.0->ipywidgets<9,>=7.6.0->ipycanvas) (1.2.3)\n",
      "Downloading ipycanvas-0.13.2-py2.py3-none-any.whl (122 kB)\n",
      "   ---------------------------------------- 0.0/122.9 kB ? eta -:--:--\n",
      "   --- ------------------------------------ 10.2/122.9 kB ? eta -:--:--\n",
      "   ------------- ------------------------- 41.0/122.9 kB 653.6 kB/s eta 0:00:01\n",
      "   ---------------------------------------- 122.9/122.9 kB 1.0 MB/s eta 0:00:00\n",
      "Installing collected packages: ipycanvas\n",
      "Successfully installed ipycanvas-0.13.2\n"
     ]
    }
   ],
   "source": [
    "!pip install ipycanvas"
   ]
  },
  {
   "cell_type": "code",
   "execution_count": 16,
   "id": "62fc8a14",
   "metadata": {},
   "outputs": [],
   "source": [
    "import numpy as np\n",
    "import tensorflow as tf\n",
    "from PIL import Image, ImageOps\n",
    "import ipywidgets as widgets\n",
    "from ipycanvas import Canvas\n",
    "from IPython.display import display, clear_output"
   ]
  },
  {
   "cell_type": "code",
   "execution_count": 17,
   "id": "7d81e4cc",
   "metadata": {},
   "outputs": [
    {
     "name": "stderr",
     "output_type": "stream",
     "text": [
      "WARNING:absl:Compiled the loaded model, but the compiled metrics have yet to be built. `model.compile_metrics` will be empty until you train or evaluate the model.\n"
     ]
    }
   ],
   "source": [
    "model = tf.keras.models.load_model('mnistmodel.h5')"
   ]
  },
  {
   "cell_type": "code",
   "execution_count": 18,
   "id": "3dcc70bf",
   "metadata": {},
   "outputs": [],
   "source": [
    "model.compile(optimizer='adam', loss=keras.losses.categorical_crossentropy, metrics=['accuracy'])"
   ]
  },
  {
   "cell_type": "code",
   "execution_count": 19,
   "id": "9a5a1149",
   "metadata": {},
   "outputs": [],
   "source": [
    "def preprocess_image(image):\n",
    "    image = ImageOps.grayscale(image)\n",
    "    image = image.resize((28, 28))\n",
    "    image = np.array(image)\n",
    "    image = image.reshape(1, 28, 28, 1)\n",
    "    image = image / 255.0\n",
    "    return image"
   ]
  },
  {
   "cell_type": "code",
   "execution_count": 20,
   "id": "03786cfb",
   "metadata": {},
   "outputs": [],
   "source": [
    "def predict_digit(image):\n",
    "    # Preprocess the image to match the input format of the model\n",
    "    image = preprocess_image(image)\n",
    "    # Predict the digit\n",
    "    prediction = model.predict(image)\n",
    "    return np.argmax(prediction), max(prediction[0])"
   ]
  },
  {
   "cell_type": "code",
   "execution_count": 22,
   "id": "f67a82df",
   "metadata": {},
   "outputs": [],
   "source": [
    "def on_predict_button_clicked(b):\n",
    "    with output:\n",
    "        clear_output()\n",
    "        # Convert canvas to image\n",
    "        image_data = canvas.to_image_data()\n",
    "        image = Image.fromarray(image_data)\n",
    "        digit, confidence = predict_digit(image)\n",
    "        print(f'Predicted Digit: {digit}')\n",
    "        print(f'Confidence: {confidence:.2f}')\n",
    "        display(image)"
   ]
  },
  {
   "cell_type": "code",
   "execution_count": 23,
   "id": "118dea04",
   "metadata": {},
   "outputs": [],
   "source": [
    "def on_clear_button_clicked(b):\n",
    "    canvas.clear()"
   ]
  },
  {
   "cell_type": "code",
   "execution_count": 24,
   "id": "ee444709",
   "metadata": {},
   "outputs": [],
   "source": [
    "predict_button = widgets.Button(description=\"Predict\")\n",
    "predict_button.on_click(on_predict_button_clicked)"
   ]
  },
  {
   "cell_type": "code",
   "execution_count": 25,
   "id": "92d50cc3",
   "metadata": {},
   "outputs": [],
   "source": [
    "clear_button = widgets.Button(description=\"Clear\")\n",
    "clear_button.on_click(on_clear_button_clicked)"
   ]
  },
  {
   "cell_type": "code",
   "execution_count": 26,
   "id": "e535c274",
   "metadata": {},
   "outputs": [
    {
     "data": {
      "application/vnd.jupyter.widget-view+json": {
       "model_id": "3ebe80cc3077412f918005b0627d5c70",
       "version_major": 2,
       "version_minor": 0
      },
      "text/plain": [
       "Canvas(height=280, width=280)"
      ]
     },
     "metadata": {},
     "output_type": "display_data"
    },
    {
     "data": {
      "application/vnd.jupyter.widget-view+json": {
       "model_id": "c41b5dfe615047c1abebf4fbccd470f4",
       "version_major": 2,
       "version_minor": 0
      },
      "text/plain": [
       "Button(description='Predict', style=ButtonStyle())"
      ]
     },
     "metadata": {},
     "output_type": "display_data"
    },
    {
     "data": {
      "application/vnd.jupyter.widget-view+json": {
       "model_id": "48e65cc38a874e62a24e448d5aa22b64",
       "version_major": 2,
       "version_minor": 0
      },
      "text/plain": [
       "Button(description='Clear', style=ButtonStyle())"
      ]
     },
     "metadata": {},
     "output_type": "display_data"
    },
    {
     "data": {
      "application/vnd.jupyter.widget-view+json": {
       "model_id": "5e1543276c214cf186f286da2aefceb3",
       "version_major": 2,
       "version_minor": 0
      },
      "text/plain": [
       "Output()"
      ]
     },
     "metadata": {},
     "output_type": "display_data"
    }
   ],
   "source": [
    "display(canvas, predict_button, clear_button, output)"
   ]
  },
  {
   "cell_type": "code",
   "execution_count": null,
   "id": "f86b992b",
   "metadata": {},
   "outputs": [],
   "source": []
  }
 ],
 "metadata": {
  "kernelspec": {
   "display_name": "Python 3 (ipykernel)",
   "language": "python",
   "name": "python3"
  },
  "language_info": {
   "codemirror_mode": {
    "name": "ipython",
    "version": 3
   },
   "file_extension": ".py",
   "mimetype": "text/x-python",
   "name": "python",
   "nbconvert_exporter": "python",
   "pygments_lexer": "ipython3",
   "version": "3.11.7"
  }
 },
 "nbformat": 4,
 "nbformat_minor": 5
}
