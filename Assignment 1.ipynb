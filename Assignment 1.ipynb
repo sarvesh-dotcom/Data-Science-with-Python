{
 "cells": [
  {
   "cell_type": "markdown",
   "id": "77110e93",
   "metadata": {},
   "source": [
    "4. Create a list of your favorite movies and print it. Then, append a new movie to the list and print the updated list."
   ]
  },
  {
   "cell_type": "code",
   "execution_count": 2,
   "id": "39269c02",
   "metadata": {},
   "outputs": [
    {
     "data": {
      "text/plain": [
       "['Iron-Man', 'Shawshank Redemption', '3 Idiots']"
      ]
     },
     "execution_count": 2,
     "metadata": {},
     "output_type": "execute_result"
    }
   ],
   "source": [
    "list_movies=['Iron-Man','Shawshank Redemption','3 Idiots']\n",
    "list_movies"
   ]
  },
  {
   "cell_type": "code",
   "execution_count": 3,
   "id": "ff248787",
   "metadata": {},
   "outputs": [
    {
     "data": {
      "text/plain": [
       "['Iron-Man', 'Shawshank Redemption', '3 Idiots', 'Avengers']"
      ]
     },
     "execution_count": 3,
     "metadata": {},
     "output_type": "execute_result"
    }
   ],
   "source": [
    "list_movies.append('Avengers')\n",
    "list_movies"
   ]
  },
  {
   "cell_type": "markdown",
   "id": "42c670ba",
   "metadata": {},
   "source": [
    "5. Create a list of integers from 1 to 10 and print it. Calculate the sum of all the numbers in the list and print the result."
   ]
  },
  {
   "cell_type": "code",
   "execution_count": 4,
   "id": "474c95d6",
   "metadata": {},
   "outputs": [
    {
     "data": {
      "text/plain": [
       "[1, 2, 3, 4, 5, 6, 7, 8, 9, 10]"
      ]
     },
     "execution_count": 4,
     "metadata": {},
     "output_type": "execute_result"
    }
   ],
   "source": [
    "list_integers= list(range(1,11))\n",
    "list_integers"
   ]
  },
  {
   "cell_type": "code",
   "execution_count": 5,
   "id": "a4c0accb",
   "metadata": {},
   "outputs": [
    {
     "data": {
      "text/plain": [
       "55"
      ]
     },
     "execution_count": 5,
     "metadata": {},
     "output_type": "execute_result"
    }
   ],
   "source": [
    "sum(list_integers)"
   ]
  },
  {
   "cell_type": "markdown",
   "id": "4ce2ac70",
   "metadata": {},
   "source": [
    "6. Create a list of mixed data types including strings, integers, and floats and print it. Remove the first element from the list and print the modified list."
   ]
  },
  {
   "cell_type": "code",
   "execution_count": 6,
   "id": "ffc2b260",
   "metadata": {},
   "outputs": [
    {
     "data": {
      "text/plain": [
       "['hello', 'world', 1, 2, 3.5, 8.6]"
      ]
     },
     "execution_count": 6,
     "metadata": {},
     "output_type": "execute_result"
    }
   ],
   "source": [
    "list_a=['hello','world',1,2,3.5,8.6]\n",
    "list_a"
   ]
  },
  {
   "cell_type": "code",
   "execution_count": 7,
   "id": "bea8d1df",
   "metadata": {},
   "outputs": [
    {
     "data": {
      "text/plain": [
       "['world', 1, 2, 3.5, 8.6]"
      ]
     },
     "execution_count": 7,
     "metadata": {},
     "output_type": "execute_result"
    }
   ],
   "source": [
    "list_a.pop(0)\n",
    "list_a"
   ]
  },
  {
   "cell_type": "markdown",
   "id": "8a37b2de",
   "metadata": {},
   "source": [
    "7. Create a tuple containing the names of the days of the week and print it. Access and print the name of the third day."
   ]
  },
  {
   "cell_type": "code",
   "execution_count": 8,
   "id": "ae17dedb",
   "metadata": {
    "scrolled": true
   },
   "outputs": [
    {
     "data": {
      "text/plain": [
       "('sunday', 'monday', 'tuesday', 'wednesday', 'thursday', 'friday', 'saturday')"
      ]
     },
     "execution_count": 8,
     "metadata": {},
     "output_type": "execute_result"
    }
   ],
   "source": [
    "days=('sunday','monday','tuesday','wednesday','thursday','friday','saturday')\n",
    "days"
   ]
  },
  {
   "cell_type": "code",
   "execution_count": 12,
   "id": "b5b69098",
   "metadata": {},
   "outputs": [
    {
     "data": {
      "text/plain": [
       "'tuesday'"
      ]
     },
     "execution_count": 12,
     "metadata": {},
     "output_type": "execute_result"
    }
   ],
   "source": [
    "days[2]"
   ]
  },
  {
   "cell_type": "markdown",
   "id": "31e39936",
   "metadata": {},
   "source": [
    "8. Create a tuple of your favorite colors and print it. Check if a certain color is present in the tuple and print the result."
   ]
  },
  {
   "cell_type": "code",
   "execution_count": 13,
   "id": "fa99003b",
   "metadata": {},
   "outputs": [
    {
     "data": {
      "text/plain": [
       "('red', 'green', 'blue')"
      ]
     },
     "execution_count": 13,
     "metadata": {},
     "output_type": "execute_result"
    }
   ],
   "source": [
    "colors=('red','green','blue')\n",
    "colors"
   ]
  },
  {
   "cell_type": "code",
   "execution_count": 15,
   "id": "763fe653",
   "metadata": {},
   "outputs": [
    {
     "name": "stdout",
     "output_type": "stream",
     "text": [
      "Yes\n"
     ]
    }
   ],
   "source": [
    "if 'red' in colors:\n",
    "    print('Yes')\n",
    "else:\n",
    "    print('No')"
   ]
  },
  {
   "cell_type": "code",
   "execution_count": 16,
   "id": "724fd8c9",
   "metadata": {},
   "outputs": [
    {
     "name": "stdout",
     "output_type": "stream",
     "text": [
      "No\n"
     ]
    }
   ],
   "source": [
    "if 'yellow' in colors:\n",
    "    print('Yes')\n",
    "else:\n",
    "    print('No')"
   ]
  },
  {
   "cell_type": "markdown",
   "id": "21fb641e",
   "metadata": {},
   "source": [
    "9. Create a dictionary representing the information of a book with keys \"title\", \"author\", and \"year\" and print it. Update the year of the book and print the updated dictionary."
   ]
  },
  {
   "cell_type": "code",
   "execution_count": 18,
   "id": "eb5b635d",
   "metadata": {},
   "outputs": [
    {
     "data": {
      "text/plain": [
       "{'title': 'The Kite Runner', 'author': 'Khaleed Hosseini', 'year': 2002}"
      ]
     },
     "execution_count": 18,
     "metadata": {},
     "output_type": "execute_result"
    }
   ],
   "source": [
    "book={'title':'The Kite Runner','author':'Khaleed Hosseini','year':2002}\n",
    "book"
   ]
  },
  {
   "cell_type": "code",
   "execution_count": 19,
   "id": "52ccbe2d",
   "metadata": {},
   "outputs": [
    {
     "data": {
      "text/plain": [
       "{'title': 'The Kite Runner', 'author': 'Khaleed Hosseini', 'year': 2003}"
      ]
     },
     "execution_count": 19,
     "metadata": {},
     "output_type": "execute_result"
    }
   ],
   "source": [
    "book['year']=2003\n",
    "book"
   ]
  },
  {
   "cell_type": "markdown",
   "id": "755e09cf",
   "metadata": {},
   "source": [
    "10. Create a dictionary containing the names of fruits as keys and their corresponding colors as values and print it. Add a new fruit-color pair to the dictionary and print the updated dictionary."
   ]
  },
  {
   "cell_type": "code",
   "execution_count": 20,
   "id": "3c063978",
   "metadata": {},
   "outputs": [
    {
     "data": {
      "text/plain": [
       "{'apple': 'red', 'mango': 'green', 'banana': 'yellow'}"
      ]
     },
     "execution_count": 20,
     "metadata": {},
     "output_type": "execute_result"
    }
   ],
   "source": [
    "fruits={'apple':'red','mango':'green','banana':'yellow'}\n",
    "fruits"
   ]
  },
  {
   "cell_type": "code",
   "execution_count": 21,
   "id": "5e360518",
   "metadata": {},
   "outputs": [
    {
     "data": {
      "text/plain": [
       "{'apple': 'red', 'mango': 'green', 'banana': 'yellow', 'orange': 'orange'}"
      ]
     },
     "execution_count": 21,
     "metadata": {},
     "output_type": "execute_result"
    }
   ],
   "source": [
    "fruits['orange']='orange'\n",
    "fruits"
   ]
  },
  {
   "cell_type": "markdown",
   "id": "73d84379",
   "metadata": {},
   "source": [
    "11. Create a dictionary representing the population of different cities with keys as city names and values as population numbers and print it. Remove a city from the dictionary and print the modified dictionary."
   ]
  },
  {
   "cell_type": "code",
   "execution_count": 22,
   "id": "c3464d1c",
   "metadata": {},
   "outputs": [
    {
     "data": {
      "text/plain": [
       "{'Kathmandu': 3000000, 'New York': 8000000, 'Tokyo': 37000000}"
      ]
     },
     "execution_count": 22,
     "metadata": {},
     "output_type": "execute_result"
    }
   ],
   "source": [
    "cities={'Kathmandu':3000000,'New York':8000000,'Tokyo':37000000}\n",
    "cities"
   ]
  },
  {
   "cell_type": "code",
   "execution_count": 23,
   "id": "7abbdab2",
   "metadata": {},
   "outputs": [
    {
     "data": {
      "text/plain": [
       "{'Kathmandu': 3000000, 'Tokyo': 37000000}"
      ]
     },
     "execution_count": 23,
     "metadata": {},
     "output_type": "execute_result"
    }
   ],
   "source": [
    "del cities['New York']\n",
    "cities"
   ]
  },
  {
   "cell_type": "code",
   "execution_count": null,
   "id": "6a4bd86f",
   "metadata": {},
   "outputs": [],
   "source": []
  }
 ],
 "metadata": {
  "kernelspec": {
   "display_name": "Python 3 (ipykernel)",
   "language": "python",
   "name": "python3"
  },
  "language_info": {
   "codemirror_mode": {
    "name": "ipython",
    "version": 3
   },
   "file_extension": ".py",
   "mimetype": "text/x-python",
   "name": "python",
   "nbconvert_exporter": "python",
   "pygments_lexer": "ipython3",
   "version": "3.11.7"
  }
 },
 "nbformat": 4,
 "nbformat_minor": 5
}
