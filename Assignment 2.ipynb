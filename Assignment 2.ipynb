{
 "cells": [
  {
   "cell_type": "code",
   "execution_count": 1,
   "id": "bcaf488a-7084-4cfb-aef9-12d6104df3a9",
   "metadata": {},
   "outputs": [],
   "source": [
    "import numpy as np"
   ]
  },
  {
   "cell_type": "markdown",
   "id": "885e2228-714b-4af8-984a-d2b0a699c79f",
   "metadata": {},
   "source": [
    "1. Array Creation:"
   ]
  },
  {
   "cell_type": "markdown",
   "id": "52bc49ed-4cd0-4198-934d-91750d6f15b0",
   "metadata": {},
   "source": [
    "Create a 1-dimensional array of integers from 1 to 10."
   ]
  },
  {
   "cell_type": "code",
   "execution_count": 2,
   "id": "12973918-6849-475a-92c4-384bae6e756e",
   "metadata": {},
   "outputs": [
    {
     "data": {
      "text/plain": [
       "array([ 1,  2,  3,  4,  5,  6,  7,  8,  9, 10])"
      ]
     },
     "execution_count": 2,
     "metadata": {},
     "output_type": "execute_result"
    }
   ],
   "source": [
    "a=np.array(range(1,11))\n",
    "a"
   ]
  },
  {
   "cell_type": "markdown",
   "id": "80b8bc72-342d-4c29-ada3-bd67764f5bcc",
   "metadata": {},
   "source": [
    "Create a 2-dimensional array with random float values of shape (3, 4)."
   ]
  },
  {
   "cell_type": "code",
   "execution_count": 3,
   "id": "1ae1d5bf-f554-4359-9647-4a46dfba4bc5",
   "metadata": {},
   "outputs": [
    {
     "data": {
      "text/plain": [
       "array([[0.85742419, 0.30243078, 0.33679374, 0.47797361],\n",
       "       [0.24959343, 0.44121569, 0.92396062, 0.51301273],\n",
       "       [0.25400589, 0.55821534, 0.17253838, 0.94453888]])"
      ]
     },
     "execution_count": 3,
     "metadata": {},
     "output_type": "execute_result"
    }
   ],
   "source": [
    "a=np.random.rand(3,4)\n",
    "a"
   ]
  },
  {
   "cell_type": "markdown",
   "id": "c8b93c29-13cf-45d3-a5bd-c1b8539f00fc",
   "metadata": {},
   "source": [
    "Create a 3-dimensional array of zeros with shape (2, 3, 4)."
   ]
  },
  {
   "cell_type": "code",
   "execution_count": 4,
   "id": "db15ef3d-144f-4dfe-be1f-7f00021c9dad",
   "metadata": {},
   "outputs": [
    {
     "data": {
      "text/plain": [
       "array([[[0., 0., 0., 0.],\n",
       "        [0., 0., 0., 0.],\n",
       "        [0., 0., 0., 0.]],\n",
       "\n",
       "       [[0., 0., 0., 0.],\n",
       "        [0., 0., 0., 0.],\n",
       "        [0., 0., 0., 0.]]])"
      ]
     },
     "execution_count": 4,
     "metadata": {},
     "output_type": "execute_result"
    }
   ],
   "source": [
    "a=np.zeros((2,3,4))\n",
    "a"
   ]
  },
  {
   "cell_type": "markdown",
   "id": "9b6267c0-c6a8-4d76-a06e-453c7be1f451",
   "metadata": {},
   "source": [
    "2. Array Operations:"
   ]
  },
  {
   "cell_type": "markdown",
   "id": "4774c916-0c43-4aef-9974-290326e32008",
   "metadata": {},
   "source": [
    "Given two 1-dimensional arrays, perform element-wise addition,\n",
    "subtraction, multiplication, and division."
   ]
  },
  {
   "cell_type": "code",
   "execution_count": 6,
   "id": "4734e00a-aa72-4f0f-88cf-a056a4cc4245",
   "metadata": {},
   "outputs": [
    {
     "name": "stdout",
     "output_type": "stream",
     "text": [
      "[5 7 9]\n",
      "[3 3 3]\n",
      "[ 4 10 18]\n",
      "[0.25 0.4  0.5 ]\n"
     ]
    }
   ],
   "source": [
    "a=np.array([1,2,3])\n",
    "b=np.array([4,5,6])\n",
    "c=a+b\n",
    "d=b-a\n",
    "e=a*b\n",
    "f=a/b\n",
    "print(c)\n",
    "print(d)\n",
    "print(e)\n",
    "print(f)"
   ]
  },
  {
   "cell_type": "markdown",
   "id": "d65dc978-547c-4052-af70-ca4213a7095f",
   "metadata": {},
   "source": [
    "Calculate the mean, median, and standard deviation of a given 1-\n",
    "dimensional array."
   ]
  },
  {
   "cell_type": "code",
   "execution_count": 7,
   "id": "44c9fff3-326d-443d-8268-34b58b50f6fc",
   "metadata": {},
   "outputs": [
    {
     "name": "stdout",
     "output_type": "stream",
     "text": [
      "2.0\n",
      "2.0\n",
      "0.816496580927726\n"
     ]
    }
   ],
   "source": [
    "a=np.array([1,2,3])\n",
    "b=np.mean(a)\n",
    "c=np.median(a)\n",
    "d=np.std(a)\n",
    "print(b)\n",
    "print(c)\n",
    "print(d)"
   ]
  },
  {
   "cell_type": "markdown",
   "id": "80196df4-f6e4-47e3-8dd4-a6c6745a34dc",
   "metadata": {},
   "source": [
    "Reshape a 1-dimensional array into a 2-dimensional array of shape (3,\n",
    "4)."
   ]
  },
  {
   "cell_type": "code",
   "execution_count": 10,
   "id": "d6219293-1b06-42bd-8ae0-7c612223655d",
   "metadata": {},
   "outputs": [
    {
     "data": {
      "text/plain": [
       "array([[ 1,  2,  3,  4],\n",
       "       [ 5,  6,  7,  8],\n",
       "       [ 9, 10, 11, 12]])"
      ]
     },
     "execution_count": 10,
     "metadata": {},
     "output_type": "execute_result"
    }
   ],
   "source": [
    "a=np.array(range(1,13))\n",
    "a.reshape(3,4)"
   ]
  },
  {
   "cell_type": "markdown",
   "id": "54def897-c4e8-4d94-90c5-f8588f245c3b",
   "metadata": {},
   "source": [
    "3. Array Indexing and Slicing:"
   ]
  },
  {
   "cell_type": "markdown",
   "id": "d56a5640-097c-416d-84c4-51466b92721b",
   "metadata": {},
   "source": [
    "Extract the first row and last column of a 2-dimensional array."
   ]
  },
  {
   "cell_type": "code",
   "execution_count": 12,
   "id": "b5c2d369-4b87-418f-aae8-4537a2836fe1",
   "metadata": {},
   "outputs": [
    {
     "name": "stdout",
     "output_type": "stream",
     "text": [
      "[1 2 3]\n",
      "[3 6 9]\n"
     ]
    }
   ],
   "source": [
    "a=np.array([[1,2,3],[4,5,6],[7,8,9]])\n",
    "print(a[0])\n",
    "print(a[:,-1])"
   ]
  },
  {
   "cell_type": "markdown",
   "id": "789d3df1-7233-4cb7-b4d0-a44665772739",
   "metadata": {},
   "source": [
    "Reverse the order of elements in a 1-dimensional array."
   ]
  },
  {
   "cell_type": "code",
   "execution_count": 13,
   "id": "9d19645a-80f4-41c1-91c4-68131dbd4f7a",
   "metadata": {},
   "outputs": [
    {
     "name": "stdout",
     "output_type": "stream",
     "text": [
      "[5 4 3 2 1]\n"
     ]
    }
   ],
   "source": [
    "a=np.array([1,2,3,4,5])\n",
    "print(a[::-1])"
   ]
  },
  {
   "cell_type": "markdown",
   "id": "ebad1bba-7621-4fa4-a859-569cc0b219bc",
   "metadata": {},
   "source": [
    "Select elements from a 2-dimensional array that satisfy a specific condition (e.g., values greater than a certain threshold)."
   ]
  },
  {
   "cell_type": "code",
   "execution_count": 15,
   "id": "dd5665db-3eb8-4a0d-93b8-ddd838866ed6",
   "metadata": {},
   "outputs": [
    {
     "data": {
      "text/plain": [
       "[2, 4, 6, 8]"
      ]
     },
     "execution_count": 15,
     "metadata": {},
     "output_type": "execute_result"
    }
   ],
   "source": [
    "a=np.array([[1,2,3],[4,5,6],[7,8,9]])\n",
    "b=[x for x in a.flatten() if x%2==0]\n",
    "b"
   ]
  },
  {
   "cell_type": "markdown",
   "id": "e6010f49-6b7d-4dce-87b4-97378b6ee2ba",
   "metadata": {},
   "source": [
    "4. Array Broadcasting:"
   ]
  },
  {
   "cell_type": "markdown",
   "id": "bab37f8b-4df3-4617-ba52-b591bc7d09e3",
   "metadata": {},
   "source": [
    "Add a scalar value to each element of a 2-dimensional array."
   ]
  },
  {
   "cell_type": "code",
   "execution_count": 16,
   "id": "7913c5a8-0f3d-4653-ba20-cfad21ea87f6",
   "metadata": {},
   "outputs": [
    {
     "data": {
      "text/plain": [
       "array([[11, 12, 13],\n",
       "       [14, 15, 16],\n",
       "       [17, 18, 19]])"
      ]
     },
     "execution_count": 16,
     "metadata": {},
     "output_type": "execute_result"
    }
   ],
   "source": [
    "a=np.array([[1,2,3],[4,5,6],[7,8,9]])\n",
    "b=a+10\n",
    "b"
   ]
  },
  {
   "cell_type": "markdown",
   "id": "616819a7-4019-4c98-ae20-22a210044baf",
   "metadata": {},
   "source": [
    "Multiply a 1-dimensional array with a 2-dimensional array, leveraging NumPy's broadcasting rules."
   ]
  },
  {
   "cell_type": "code",
   "execution_count": 17,
   "id": "2a32ff61-6c4f-4eec-b68f-23067ddd80ca",
   "metadata": {},
   "outputs": [
    {
     "data": {
      "text/plain": [
       "array([[ 10,  22,  36],\n",
       "       [ 40,  55,  72],\n",
       "       [ 70,  88, 108]])"
      ]
     },
     "execution_count": 17,
     "metadata": {},
     "output_type": "execute_result"
    }
   ],
   "source": [
    "a=np.array([[1,2,3],[4,5,6],[7,8,9]])\n",
    "b=np.array([10,11,12])\n",
    "c=a*b\n",
    "c"
   ]
  },
  {
   "cell_type": "markdown",
   "id": "ee773a87-4089-40d5-a209-1fd3d9d2767c",
   "metadata": {},
   "source": [
    "Linear Algebra:\n",
    "Calculate the dot product of two 1-dimensional arrays."
   ]
  },
  {
   "cell_type": "code",
   "execution_count": 18,
   "id": "665d8ac6-41d9-4e55-9b52-4953f81bfff8",
   "metadata": {},
   "outputs": [
    {
     "data": {
      "text/plain": [
       "array([[19, 22],\n",
       "       [43, 50]])"
      ]
     },
     "execution_count": 18,
     "metadata": {},
     "output_type": "execute_result"
    }
   ],
   "source": [
    "a=np.array([[1,2],[3,4]])\n",
    "b=np.array([[5,6],[7,8]])\n",
    "a.dot(b)"
   ]
  },
  {
   "cell_type": "markdown",
   "id": "1c306cd8-8718-4e58-9c3b-bf91208153ec",
   "metadata": {},
   "source": [
    "Compute the matrix multiplication of two 2-dimensional arrays."
   ]
  },
  {
   "cell_type": "code",
   "execution_count": 19,
   "id": "a8ec6cd7-9e9c-4088-9c32-8a85abf4b414",
   "metadata": {},
   "outputs": [
    {
     "data": {
      "text/plain": [
       "array([[19, 22],\n",
       "       [43, 50]])"
      ]
     },
     "execution_count": 19,
     "metadata": {},
     "output_type": "execute_result"
    }
   ],
   "source": [
    "np.matmul(a,b)"
   ]
  },
  {
   "cell_type": "markdown",
   "id": "c34f3494-0e8e-4776-bf0f-81582a93e4c2",
   "metadata": {},
   "source": [
    "Find the inverse and determinant of a square matrix."
   ]
  },
  {
   "cell_type": "code",
   "execution_count": 21,
   "id": "1186059b-521a-4fb1-8a90-d0cc08feb09e",
   "metadata": {},
   "outputs": [
    {
     "data": {
      "text/plain": [
       "-2.0000000000000004"
      ]
     },
     "execution_count": 21,
     "metadata": {},
     "output_type": "execute_result"
    }
   ],
   "source": [
    "d=np.linalg.det(a)\n",
    "d"
   ]
  },
  {
   "cell_type": "code",
   "execution_count": 22,
   "id": "efdba03a-b99d-4036-97ee-f48cb8a487ed",
   "metadata": {},
   "outputs": [
    {
     "data": {
      "text/plain": [
       "array([[-2. ,  1. ],\n",
       "       [ 1.5, -0.5]])"
      ]
     },
     "execution_count": 22,
     "metadata": {},
     "output_type": "execute_result"
    }
   ],
   "source": [
    "e=np.linalg.inv(a)\n",
    "e"
   ]
  }
 ],
 "metadata": {
  "kernelspec": {
   "display_name": "Python 3 (ipykernel)",
   "language": "python",
   "name": "python3"
  },
  "language_info": {
   "codemirror_mode": {
    "name": "ipython",
    "version": 3
   },
   "file_extension": ".py",
   "mimetype": "text/x-python",
   "name": "python",
   "nbconvert_exporter": "python",
   "pygments_lexer": "ipython3",
   "version": "3.11.3"
  }
 },
 "nbformat": 4,
 "nbformat_minor": 5
}
